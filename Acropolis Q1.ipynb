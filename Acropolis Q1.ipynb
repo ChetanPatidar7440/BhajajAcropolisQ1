{
 "cells": [
  {
   "cell_type": "code",
   "execution_count": 1,
   "id": "faba8586-ee56-4fd5-93db-e1af27ea4be6",
   "metadata": {},
   "outputs": [],
   "source": [
    "import pandas as pd\n",
    "from datetime import datetime"
   ]
  },
  {
   "cell_type": "code",
   "execution_count": 2,
   "id": "08735e38-a442-4da5-bd3d-181c24b9c0fd",
   "metadata": {},
   "outputs": [],
   "source": [
    "# Define today's date for age calculation (assumed from latest payment date)\n",
    "today = datetime(2025, 3, 5)\n",
    "\n",
    "# Define department data\n",
    "departments = pd.DataFrame({\n",
    "    'DEPARTMENT_ID': [1, 2, 3, 4, 5, 6],\n",
    "    'DEPARTMENT_NAME': ['HR', 'Finance', 'Engineering', 'Sales', 'Marketing', 'IT']\n",
    "})\n"
   ]
  },
  {
   "cell_type": "code",
   "execution_count": 3,
   "id": "95772f8a-5de7-4e7b-9dc4-1d899e9e9412",
   "metadata": {},
   "outputs": [],
   "source": [
    "# Define employee data\n",
    "employees = pd.DataFrame({\n",
    "    'EMP_ID': [1, 2, 3, 4, 5, 6, 7, 8, 9, 10],\n",
    "    'FIRST_NAME': ['John', 'Sarah', 'Michael', 'Emily', 'David', 'Olivia', 'James', 'Sophia', 'Liam', 'Emma'],\n",
    "    'LAST_NAME': ['Williams', 'Johnson', 'Smith', 'Brown', 'Jones', 'Davis', 'Wilson', 'Anderson', 'Miller', 'Taylor'],\n",
    "    'DOB': pd.to_datetime(['1980-05-15', '1990-07-20', '1985-02-10', '1992-11-30', '1988-09-05', '1995-04-12',\n",
    "                           '1983-03-25', '1991-08-17', '1979-12-01', '1993-06-28']),\n",
    "    'GENDER': ['Male', 'Female', 'Male', 'Female', 'Male', 'Female', 'Male', 'Female', 'Male', 'Female'],\n",
    "    'DEPARTMENT': [3, 2, 3, 4, 5, 1, 6, 4, 1, 5]\n",
    "})"
   ]
  },
  {
   "cell_type": "code",
   "execution_count": 4,
   "id": "5dae85b5-f4b0-4d68-9c79-58d0b1c3f5cc",
   "metadata": {},
   "outputs": [],
   "source": [
    "# Define payments data\n",
    "payments = pd.DataFrame({\n",
    "    'PAYMENT_ID': list(range(1, 17)),\n",
    "    'EMP_ID': [2, 4, 1, 3, 2, 5, 1, 6, 4, 3, 6, 5, 2, 1, 6, 4],\n",
    "    'AMOUNT': [65784, 62736, 69437, 67183, 66273, 71475, 70837, 69628, 71876,\n",
    "               70098, 67827, 69871, 72984, 67982, 70198, 74998],\n",
    "    'PAYMENT_TIME': pd.to_datetime([\n",
    "        '2025-01-01 13:44:12.824', '2025-01-06 18:36:37.892', '2025-01-01 10:19:21.563',\n",
    "        '2025-01-02 17:21:57.341', '2025-02-01 11:49:15.764', '2025-01-01 07:24:14.453',\n",
    "        '2025-02-03 19:11:31.553', '2025-01-02 10:41:15.113', '2025-02-01 12:16:47.807',\n",
    "        '2025-02-03 10:11:17.341', '2025-02-02 19:21:27.753', '2025-02-05 17:54:17.453',\n",
    "        '2025-03-05 09:37:35.974', '2025-03-01 06:09:51.983', '2025-03-02 10:34:35.753',\n",
    "        '2025-03-02 09:27:26.162'\n",
    "    ])\n",
    "})"
   ]
  },
  {
   "cell_type": "code",
   "execution_count": null,
   "id": "a7fa5764-ab48-4e6a-8af3-798a90d3b9cd",
   "metadata": {},
   "outputs": [],
   "source": [
    "# Filter out payments made on the 1st of any month\n",
    "payments['DAY'] = payments['PAYMENT_TIME'].dt.day\n",
    "non_first_day_payments = payments[payments['DAY'] != 1]\n",
    "\n",
    "# Find the highest salary from these payments\n",
    "max_payment = non_first_day_payments.loc[non_first_day_payments['AMOUNT'].idxmax()]\n",
    "\n",
    "# Get employee details\n",
    "employee = employees[employees['EMP_ID'] == max_payment['EMP_ID']].iloc[0]\n",
    "\n",
    "# Calculate age\n",
    "age = today.year - employee['DOB'].year - ((today.month, today.day) < (employee['DOB'].month, employee['DOB'].day))\n",
    "\n",
    "# Get department name\n",
    "dept_name = departments[departments['DEPARTMENT_ID'] == employee['DEPARTMENT']].iloc[0]['DEPARTMENT_NAME']\n",
    "\n",
    "# Prepare result\n",
    "result = {\n",
    "    'SALARY': max_payment['AMOUNT'],\n",
    "    'NAME': f\"{employee['FIRST_NAME']} {employee['LAST_NAME']}\",\n",
    "    'AGE': age,\n",
    "    'DEPARTMENT_NAME': dept_name\n",
    "}\n",
    "\n",
    "print(result)"
   ]
  }
 ],
 "metadata": {
  "kernelspec": {
   "display_name": "Python 3 (ipykernel)",
   "language": "python",
   "name": "python3"
  },
  "language_info": {
   "codemirror_mode": {
    "name": "ipython",
    "version": 3
   },
   "file_extension": ".py",
   "mimetype": "text/x-python",
   "name": "python",
   "nbconvert_exporter": "python",
   "pygments_lexer": "ipython3",
   "version": "3.11.5"
  }
 },
 "nbformat": 4,
 "nbformat_minor": 5
}
